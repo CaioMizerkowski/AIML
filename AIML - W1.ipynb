{
 "cells": [
  {
   "cell_type": "code",
   "execution_count": 1,
   "id": "b186f76c-76d0-4e4e-99cc-a4c766c60407",
   "metadata": {},
   "outputs": [],
   "source": [
    "import numpy as np\n",
    "from scipy.optimize import differential_evolution\n",
    "from differential_evolution import DifferentialEvolution\n",
    "from genetic_algorithm import GeneticAlgorithm\n",
    "from jade import JADifferentialEvolution\n",
    "from problemas import PressureVessel, TensionCompressionSpring, SpeedReducer\n",
    "import pandas as pd"
   ]
  },
  {
   "cell_type": "code",
   "execution_count": 2,
   "id": "1da90dd3-d88d-4f4e-b2ed-60de46127193",
   "metadata": {},
   "outputs": [],
   "source": [
    "def run(algorithm, problem, N, G, config):\n",
    "    res = dict()\n",
    "    for case in config:\n",
    "        res[case] = []\n",
    "        for i in range(N):\n",
    "            alg = algorithm(problem.problem, problem.bounds, seed=i, G=G, **config[case])\n",
    "            alg.run()\n",
    "            res[case].append(alg.fun)\n",
    "    return res"
   ]
  },
  {
   "cell_type": "code",
   "execution_count": 3,
   "id": "284d5961-1d66-40b7-92f4-e163bfb5ae91",
   "metadata": {},
   "outputs": [],
   "source": [
    "class ScipyAdapter:\n",
    "    def __init__(self, problem, bounds, seed, G, mutation, recombination):\n",
    "        self.func = differential_evolution\n",
    "        self.result = None\n",
    "        self.problem = problem\n",
    "        self.bounds = bounds\n",
    "        self.seed = seed\n",
    "        self.maxiter = G\n",
    "        self.mutation = mutation\n",
    "        self.recombination = recombination\n",
    "\n",
    "    @property\n",
    "    def fun(self):\n",
    "        return self.result.fun\n",
    "        \n",
    "    def run(self):\n",
    "        self.result = self.func(self.problem, bounds=self.bounds, seed=self.seed, maxiter=self.maxiter, mutation=self.mutation, recombination=self.recombination)\n"
   ]
  },
  {
   "cell_type": "code",
   "execution_count": 4,
   "id": "30c99ed7-5374-47fb-b512-06de9aa52131",
   "metadata": {},
   "outputs": [],
   "source": [
    "N = 30\n",
    "G = 200"
   ]
  },
  {
   "cell_type": "code",
   "execution_count": 5,
   "id": "c05b1920-501d-4021-83bd-f86aa8d5e1f8",
   "metadata": {},
   "outputs": [],
   "source": [
    "config = {'case1':{'mutation':0.7, 'recombination':0.7},\n",
    "          'case2':{'mutation':0.6, 'recombination':0.8},\n",
    "          'case3':{'mutation':0.8, 'recombination':0.6}}"
   ]
  },
  {
   "cell_type": "markdown",
   "id": "04cf1837-52a8-4c59-a478-dea5d3f2832c",
   "metadata": {
    "tags": []
   },
   "source": [
    "# 4.3.1 Example 8: Design of Pressure Vessel"
   ]
  },
  {
   "cell_type": "code",
   "execution_count": 6,
   "id": "e47ae64a-ddb0-4ac4-972b-5bd4850eb6d1",
   "metadata": {},
   "outputs": [
    {
     "data": {
      "text/plain": [
       "6059.714406596527"
      ]
     },
     "execution_count": 6,
     "metadata": {},
     "output_type": "execute_result"
    }
   ],
   "source": [
    "best_x = (0.8125, 0.4375, 42.098446, 176.636596)\n",
    "pv = PressureVessel()\n",
    "pv.pressure_vessel(best_x)-pv.constrains(best_x) # = 6059.714339"
   ]
  },
  {
   "cell_type": "code",
   "execution_count": null,
   "id": "94579f9b-edf4-43a5-a919-661213c47583",
   "metadata": {},
   "outputs": [],
   "source": [
    "res_de = run(algorithm=DifferentialEvolution, problem=pv, N=N, G=G, config=config)\n",
    "res_ga = run(algorithm=GeneticAlgorithm, problem=pv, N=N, G=G, config=config)\n",
    "res_jade = run(algorithm=JADifferentialEvolution, problem=pv, N=N, G=G, config=config)\n",
    "res_scipy = run(algorithm=ScipyAdapter, problem=pv, N=N, G=G, config=config)"
   ]
  },
  {
   "cell_type": "code",
   "execution_count": null,
   "id": "348cfbc4-552e-4f96-b43d-59e6536beef4",
   "metadata": {
    "tags": []
   },
   "outputs": [],
   "source": [
    "df_scipy = pd.DataFrame(res_scipy)\n",
    "df_jade = pd.DataFrame(res_jade)\n",
    "df_de = pd.DataFrame(res_de)\n",
    "df_ga = pd.DataFrame(res_ga)\n",
    "\n",
    "print('Scipy DE')\n",
    "print(df_scipy.describe())\n",
    "print()\n",
    "print('DE')\n",
    "print(df_de.describe())\n",
    "print()\n",
    "print('GA')\n",
    "print(df_ga.describe())\n",
    "print()\n",
    "print('JADE')\n",
    "print(df_jade.describe())"
   ]
  },
  {
   "cell_type": "markdown",
   "id": "46ba6556-0d3d-4ed4-a15c-9ced221e88eb",
   "metadata": {
    "tags": []
   },
   "source": [
    "# 4.3.3 Example 10: Design of Tension/Compression Spring"
   ]
  },
  {
   "cell_type": "code",
   "execution_count": null,
   "id": "b2935334-f113-4d3e-bb9a-b9d5af8ee42a",
   "metadata": {},
   "outputs": [],
   "source": [
    "best_x = (0.051749, 0.358179, 11.203763)\n",
    "tcs = TensionCompressionSpring()\n",
    "tcs.tension_compression_spring(best_x)-tcs.constrains(best_x)"
   ]
  },
  {
   "cell_type": "code",
   "execution_count": null,
   "id": "44dea829-e415-48d6-b49a-b68915830e16",
   "metadata": {},
   "outputs": [],
   "source": [
    "res_de = run(algorithm=DifferentialEvolution, problem=tcs, N=N, G=G, config=config)\n",
    "res_ga = run(algorithm=GeneticAlgorithm, problem=tcs, N=N, G=G, config=config)\n",
    "res_jade = run(algorithm=JADifferentialEvolution, problem=tcs, N=N, G=G, config=config)\n",
    "res_scipy = run(algorithm=ScipyAdapter, problem=tcs, N=N, G=G, config=config)"
   ]
  },
  {
   "cell_type": "code",
   "execution_count": null,
   "id": "914ca838-9263-40e9-b1fa-95735653fee4",
   "metadata": {
    "tags": []
   },
   "outputs": [],
   "source": [
    "df_scipy = pd.DataFrame(res_scipy)\n",
    "df_jade = pd.DataFrame(res_jade)\n",
    "df_de = pd.DataFrame(res_de)\n",
    "df_ga = pd.DataFrame(res_ga)\n",
    "\n",
    "print('Scipy DE')\n",
    "print(df_scipy.describe())\n",
    "print()\n",
    "print('DE')\n",
    "print(df_de.describe())\n",
    "print()\n",
    "print('GA')\n",
    "print(df_ga.describe())\n",
    "print()\n",
    "print('JADE')\n",
    "print(df_jade.describe())"
   ]
  },
  {
   "cell_type": "markdown",
   "id": "d0bfaa8b-1ebe-4b41-ac91-bdeb592e3b80",
   "metadata": {
    "tags": []
   },
   "source": [
    "# 4.3.4 Example 11: Design of a Speed Reducer"
   ]
  },
  {
   "cell_type": "code",
   "execution_count": null,
   "id": "9dd679ac-45c7-411b-a1c9-69f2e6ce2f81",
   "metadata": {
    "tags": []
   },
   "outputs": [],
   "source": [
    "best_x = (3.4999, 0.69999, 17, 7.3, 7.8, 3.3502, 5.2866)\n",
    "sr = SpeedReducer()\n",
    "sr.speed_reducer(best_x)-sr.constrains(best_x)"
   ]
  },
  {
   "cell_type": "code",
   "execution_count": null,
   "id": "69683f08-34fd-46a0-b42c-036745ceefa0",
   "metadata": {},
   "outputs": [],
   "source": [
    "res_de = run(algorithm=DifferentialEvolution, problem=sr, N=N, G=G, config=config)\n",
    "res_ga = run(algorithm=GeneticAlgorithm, problem=sr, N=N, G=G, config=config)\n",
    "res_jade = run(algorithm=JADifferentialEvolution, problem=sr, N=N, G=G, config=config)\n",
    "res_scipy = run(algorithm=ScipyAdapter, problem=sr, N=N, G=G, config=config)"
   ]
  },
  {
   "cell_type": "code",
   "execution_count": null,
   "id": "602e3a3c-b1ad-4153-95da-1e20c97ea0dd",
   "metadata": {
    "tags": []
   },
   "outputs": [],
   "source": [
    "df_scipy = pd.DataFrame(res_scipy)\n",
    "df_jade = pd.DataFrame(res_jade)\n",
    "df_de = pd.DataFrame(res_de)\n",
    "df_ga = pd.DataFrame(res_ga)\n",
    "\n",
    "print('Scipy DE')\n",
    "print(df_scipy.describe())\n",
    "print()\n",
    "print('DE')\n",
    "print(df_de.describe())\n",
    "print()\n",
    "print('GA')\n",
    "print(df_ga.describe())\n",
    "print()\n",
    "print('JADE')\n",
    "print(df_jade.describe())"
   ]
  }
 ],
 "metadata": {
  "kernelspec": {
   "display_name": "Python 3 (ipykernel)",
   "language": "python",
   "name": "python3"
  },
  "language_info": {
   "codemirror_mode": {
    "name": "ipython",
    "version": 3
   },
   "file_extension": ".py",
   "mimetype": "text/x-python",
   "name": "python",
   "nbconvert_exporter": "python",
   "pygments_lexer": "ipython3",
   "version": "3.9.7"
  }
 },
 "nbformat": 4,
 "nbformat_minor": 5
}
