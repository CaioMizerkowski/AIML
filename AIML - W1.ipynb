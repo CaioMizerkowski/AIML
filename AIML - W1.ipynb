{
 "cells": [
  {
   "cell_type": "code",
   "execution_count": 1,
   "id": "b186f76c-76d0-4e4e-99cc-a4c766c60407",
   "metadata": {},
   "outputs": [],
   "source": [
    "import numpy as np\n",
    "from scipy.optimize import differential_evolution\n",
    "from differential_evolution import DifferentialEvolution\n",
    "from genetic_algorithm import GeneticAlgorithm\n",
    "from jade import JADifferentialEvolution\n",
    "from problemas import PressureVessel, TensionCompressionSpring, SpeedReducer\n",
    "import pandas as pd"
   ]
  },
  {
   "cell_type": "code",
   "execution_count": 2,
   "id": "1da90dd3-d88d-4f4e-b2ed-60de46127193",
   "metadata": {},
   "outputs": [],
   "source": [
    "def run(algorithm, problem, N, G, config):\n",
    "    res = dict()\n",
    "    for case in config:\n",
    "        res[case] = []\n",
    "        for i in range(N):\n",
    "            alg = algorithm(problem.problem, problem.bounds, seed=i, G=G, **config[case])\n",
    "            alg.run()\n",
    "            res[case].append(alg.fun)\n",
    "    return res"
   ]
  },
  {
   "cell_type": "code",
   "execution_count": 3,
   "id": "284d5961-1d66-40b7-92f4-e163bfb5ae91",
   "metadata": {},
   "outputs": [],
   "source": [
    "class ScipyAdapter:\n",
    "    def __init__(self, problem, bounds, seed, G, mutation, recombination):\n",
    "        self.func = differential_evolution\n",
    "        self.result = None\n",
    "        self.problem = problem\n",
    "        self.bounds = bounds\n",
    "        self.seed = seed\n",
    "        self.maxiter = G\n",
    "        self.mutation = mutation\n",
    "        self.recombination = recombination\n",
    "\n",
    "    @property\n",
    "    def fun(self):\n",
    "        return self.result.fun\n",
    "        \n",
    "    def run(self):\n",
    "        self.result = self.func(self.problem, bounds=self.bounds, seed=self.seed, maxiter=self.maxiter, mutation=self.mutation, recombination=self.recombination)\n"
   ]
  },
  {
   "cell_type": "code",
   "execution_count": 4,
   "id": "30c99ed7-5374-47fb-b512-06de9aa52131",
   "metadata": {},
   "outputs": [],
   "source": [
    "N = 30\n",
    "G = 200"
   ]
  },
  {
   "cell_type": "code",
   "execution_count": 5,
   "id": "c05b1920-501d-4021-83bd-f86aa8d5e1f8",
   "metadata": {},
   "outputs": [],
   "source": [
    "config = {'case1':{'mutation':0.7, 'recombination':0.7},\n",
    "          'case2':{'mutation':0.6, 'recombination':0.8},\n",
    "          'case3':{'mutation':0.8, 'recombination':0.6}}"
   ]
  },
  {
   "cell_type": "markdown",
   "id": "04cf1837-52a8-4c59-a478-dea5d3f2832c",
   "metadata": {
    "tags": []
   },
   "source": [
    "# 4.3.1 Example 8: Design of Pressure Vessel"
   ]
  },
  {
   "cell_type": "code",
   "execution_count": 6,
   "id": "e47ae64a-ddb0-4ac4-972b-5bd4850eb6d1",
   "metadata": {},
   "outputs": [
    {
     "data": {
      "text/plain": [
       "6059.714406596527"
      ]
     },
     "execution_count": 6,
     "metadata": {},
     "output_type": "execute_result"
    }
   ],
   "source": [
    "best_x = (0.8125, 0.4375, 42.098446, 176.636596)\n",
    "pv = PressureVessel()\n",
    "pv.pressure_vessel(best_x)-pv.constrains(best_x) # = 6059.714339"
   ]
  },
  {
   "cell_type": "code",
   "execution_count": 7,
   "id": "94579f9b-edf4-43a5-a919-661213c47583",
   "metadata": {},
   "outputs": [],
   "source": [
    "res_de = run(algorithm=DifferentialEvolution, problem=pv, N=N, G=G, config=config)\n",
    "res_ga = run(algorithm=GeneticAlgorithm, problem=pv, N=N, G=G, config=config)\n",
    "res_jade = run(algorithm=JADifferentialEvolution, problem=pv, N=N, G=G, config=config)\n",
    "res_scipy = run(algorithm=ScipyAdapter, problem=pv, N=N, G=G, config=config)"
   ]
  },
  {
   "cell_type": "code",
   "execution_count": 8,
   "id": "348cfbc4-552e-4f96-b43d-59e6536beef4",
   "metadata": {
    "tags": []
   },
   "outputs": [
    {
     "name": "stdout",
     "output_type": "stream",
     "text": [
      "Scipy DE\n",
      "             case1        case2        case3\n",
      "count    30.000000    30.000000    30.000000\n",
      "mean   6129.063891  6344.126139  6092.374045\n",
      "std     123.364782   291.980889    82.679927\n",
      "min    6059.932671  6059.733873  6059.731881\n",
      "25%    6061.250665  6091.043242  6061.021478\n",
      "50%    6091.151410  6371.054639  6063.480757\n",
      "75%    6093.265213  6413.496441  6091.707510\n",
      "max    6419.882870  6824.338635  6411.791999\n",
      "\n",
      "DE\n",
      "             case1        case2        case3\n",
      "count    30.000000    30.000000    30.000000\n",
      "mean   6061.783193  6059.729713  6081.522931\n",
      "std       2.771037     0.020929    15.729263\n",
      "min    6059.899275  6059.714788  6060.252735\n",
      "25%    6060.231963  6059.717626  6071.956076\n",
      "50%    6061.043693  6059.722702  6077.537347\n",
      "75%    6062.335561  6059.730658  6085.606400\n",
      "max    6074.836493  6059.807144  6119.812004\n",
      "\n",
      "GA\n",
      "               case1          case2          case3\n",
      "count      30.000000      30.000000      30.000000\n",
      "mean   216178.697828  216178.697828  216178.697828\n",
      "std     99343.516968   99343.516968   99343.516968\n",
      "min     68184.930607   68184.930607   68184.930607\n",
      "25%    143173.402810  143173.402810  143173.402810\n",
      "50%    189900.210465  189900.210465  189900.210465\n",
      "75%    278985.360434  278985.360434  278985.360434\n",
      "max    433559.685593  433559.685593  433559.685593\n",
      "\n",
      "JADE\n",
      "             case1        case2        case3\n",
      "count    30.000000    30.000000    30.000000\n",
      "mean   6063.845923  6076.247469  6064.295618\n",
      "std      10.645966    57.011068    10.660281\n",
      "min    6059.714381  6059.714348  6059.720783\n",
      "25%    6059.717686  6059.714423  6059.840151\n",
      "50%    6059.729716  6059.714881  6059.938997\n",
      "75%    6059.775271  6059.746460  6060.800948\n",
      "max    6090.543741  6370.779740  6091.565843\n"
     ]
    }
   ],
   "source": [
    "df_scipy = pd.DataFrame(res_scipy)\n",
    "df_jade = pd.DataFrame(res_jade)\n",
    "df_de = pd.DataFrame(res_de)\n",
    "df_ga = pd.DataFrame(res_ga)\n",
    "\n",
    "print('Scipy DE')\n",
    "print(df_scipy.describe())\n",
    "print()\n",
    "print('DE')\n",
    "print(df_de.describe())\n",
    "print()\n",
    "print('GA')\n",
    "print(df_ga.describe())\n",
    "print()\n",
    "print('JADE')\n",
    "print(df_jade.describe())"
   ]
  },
  {
   "cell_type": "markdown",
   "id": "46ba6556-0d3d-4ed4-a15c-9ced221e88eb",
   "metadata": {
    "tags": []
   },
   "source": [
    "# 4.3.3 Example 10: Design of Tension/Compression Spring"
   ]
  },
  {
   "cell_type": "code",
   "execution_count": 9,
   "id": "b2935334-f113-4d3e-bb9a-b9d5af8ee42a",
   "metadata": {},
   "outputs": [
    {
     "data": {
      "text/plain": [
       "0.012664899963644788"
      ]
     },
     "execution_count": 9,
     "metadata": {},
     "output_type": "execute_result"
    }
   ],
   "source": [
    "best_x = (0.051749, 0.358179, 11.203763)\n",
    "tcs = TensionCompressionSpring()\n",
    "tcs.tension_compression_spring(best_x)-tcs.constrains(best_x)"
   ]
  },
  {
   "cell_type": "code",
   "execution_count": 10,
   "id": "44dea829-e415-48d6-b49a-b68915830e16",
   "metadata": {},
   "outputs": [],
   "source": [
    "res_de = run(algorithm=DifferentialEvolution, problem=tcs, N=N, G=G, config=config)\n",
    "res_ga = run(algorithm=GeneticAlgorithm, problem=tcs, N=N, G=G, config=config)\n",
    "res_jade = run(algorithm=JADifferentialEvolution, problem=tcs, N=N, G=G, config=config)\n",
    "res_scipy = run(algorithm=ScipyAdapter, problem=tcs, N=N, G=G, config=config)"
   ]
  },
  {
   "cell_type": "code",
   "execution_count": 11,
   "id": "914ca838-9263-40e9-b1fa-95735653fee4",
   "metadata": {
    "tags": []
   },
   "outputs": [
    {
     "name": "stdout",
     "output_type": "stream",
     "text": [
      "Scipy DE\n",
      "           case1      case2      case3\n",
      "count  30.000000  30.000000  30.000000\n",
      "mean    0.012710   0.012749   0.012697\n",
      "std     0.000054   0.000097   0.000026\n",
      "min     0.012668   0.012671   0.012667\n",
      "25%     0.012678   0.012688   0.012680\n",
      "50%     0.012690   0.012719   0.012690\n",
      "75%     0.012726   0.012788   0.012704\n",
      "max     0.012932   0.013174   0.012787\n",
      "\n",
      "DE\n",
      "           case1         case2      case3\n",
      "count  30.000000  3.000000e+01  30.000000\n",
      "mean    0.012669  1.266546e-02   0.012697\n",
      "std     0.000004  2.287372e-07   0.000033\n",
      "min     0.012666  1.266525e-02   0.012667\n",
      "25%     0.012667  1.266529e-02   0.012676\n",
      "50%     0.012667  1.266542e-02   0.012689\n",
      "75%     0.012669  1.266553e-02   0.012699\n",
      "max     0.012681  1.266634e-02   0.012831\n",
      "\n",
      "GA\n",
      "           case1      case2      case3\n",
      "count  30.000000  30.000000  30.000000\n",
      "mean    2.369622   2.369622   2.369622\n",
      "std     3.388809   3.388809   3.388809\n",
      "min     0.015261   0.015261   0.015261\n",
      "25%     0.091149   0.091149   0.091149\n",
      "50%     0.230142   0.230142   0.230142\n",
      "75%     3.518857   3.518857   3.518857\n",
      "max    10.239291  10.239291  10.239291\n",
      "\n",
      "JADE\n",
      "           case1      case2      case3\n",
      "count  30.000000  30.000000  30.000000\n",
      "mean    0.012667   0.012666   0.012668\n",
      "std     0.000006   0.000001   0.000011\n",
      "min     0.012665   0.012665   0.012665\n",
      "25%     0.012665   0.012665   0.012665\n",
      "50%     0.012665   0.012665   0.012665\n",
      "75%     0.012665   0.012665   0.012665\n",
      "max     0.012697   0.012671   0.012727\n"
     ]
    }
   ],
   "source": [
    "df_scipy = pd.DataFrame(res_scipy)\n",
    "df_jade = pd.DataFrame(res_jade)\n",
    "df_de = pd.DataFrame(res_de)\n",
    "df_ga = pd.DataFrame(res_ga)\n",
    "\n",
    "print('Scipy DE')\n",
    "print(df_scipy.describe())\n",
    "print()\n",
    "print('DE')\n",
    "print(df_de.describe())\n",
    "print()\n",
    "print('GA')\n",
    "print(df_ga.describe())\n",
    "print()\n",
    "print('JADE')\n",
    "print(df_jade.describe())"
   ]
  },
  {
   "cell_type": "markdown",
   "id": "d0bfaa8b-1ebe-4b41-ac91-bdeb592e3b80",
   "metadata": {
    "tags": []
   },
   "source": [
    "# 4.3.4 Example 11: Design of a Speed Reducer"
   ]
  },
  {
   "cell_type": "code",
   "execution_count": 12,
   "id": "9dd679ac-45c7-411b-a1c9-69f2e6ce2f81",
   "metadata": {
    "tags": []
   },
   "outputs": [
    {
     "data": {
      "text/plain": [
       "2996.207037654751"
      ]
     },
     "execution_count": 12,
     "metadata": {},
     "output_type": "execute_result"
    }
   ],
   "source": [
    "best_x = (3.4999, 0.69999, 17, 7.3, 7.8, 3.3502, 5.2866)\n",
    "sr = SpeedReducer()\n",
    "sr.speed_reducer(best_x)-sr.constrains(best_x)"
   ]
  },
  {
   "cell_type": "code",
   "execution_count": 13,
   "id": "69683f08-34fd-46a0-b42c-036745ceefa0",
   "metadata": {},
   "outputs": [],
   "source": [
    "res_de = run(algorithm=DifferentialEvolution, problem=sr, N=N, G=G, config=config)\n",
    "res_ga = run(algorithm=GeneticAlgorithm, problem=sr, N=N, G=G, config=config)\n",
    "res_jade = run(algorithm=JADifferentialEvolution, problem=sr, N=N, G=G, config=config)\n",
    "res_scipy = run(algorithm=ScipyAdapter, problem=sr, N=N, G=G, config=config)"
   ]
  },
  {
   "cell_type": "code",
   "execution_count": 14,
   "id": "602e3a3c-b1ad-4153-95da-1e20c97ea0dd",
   "metadata": {
    "tags": []
   },
   "outputs": [
    {
     "name": "stdout",
     "output_type": "stream",
     "text": [
      "Scipy DE\n",
      "             case1        case2        case3\n",
      "count    30.000000    30.000000    30.000000\n",
      "mean   3009.584330  3009.638277  3014.471702\n",
      "std       4.286431     3.804290     5.026209\n",
      "min    3001.662101  3003.393361  3007.273549\n",
      "25%    3006.693041  3005.976877  3010.909947\n",
      "50%    3009.937761  3010.521262  3012.291645\n",
      "75%    3012.248191  3011.783684  3018.217274\n",
      "max    3017.145742  3015.761840  3026.216066\n",
      "\n",
      "DE\n",
      "             case1        case2        case3\n",
      "count    30.000000    30.000000    30.000000\n",
      "mean   2996.348388  2996.348314  2996.348386\n",
      "std       0.000173     0.000083     0.000145\n",
      "min    2996.348206  2996.348200  2996.348199\n",
      "25%    2996.348268  2996.348261  2996.348298\n",
      "50%    2996.348363  2996.348306  2996.348337\n",
      "75%    2996.348441  2996.348352  2996.348448\n",
      "max    2996.349035  2996.348580  2996.348844\n",
      "\n",
      "GA\n",
      "             case1        case2        case3\n",
      "count    30.000000    30.000000    30.000000\n",
      "mean   3768.983599  3768.983599  3768.983599\n",
      "std     886.384442   886.384442   886.384442\n",
      "min    3124.870128  3124.870128  3124.870128\n",
      "25%    3215.770937  3215.770937  3215.770937\n",
      "50%    3314.784872  3314.784872  3314.784872\n",
      "75%    3902.420130  3902.420130  3902.420130\n",
      "max    6288.537136  6288.537136  6288.537136\n",
      "\n",
      "JADE\n",
      "             case1         case2        case3\n",
      "count    30.000000  3.000000e+01    30.000000\n",
      "mean   2996.348167  2.996348e+03  2996.348168\n",
      "std       0.000001  3.341265e-07     0.000002\n",
      "min    2996.348166  2.996348e+03  2996.348166\n",
      "25%    2996.348166  2.996348e+03  2996.348167\n",
      "50%    2996.348167  2.996348e+03  2996.348169\n",
      "75%    2996.348168  2.996348e+03  2996.348169\n",
      "max    2996.348170  2.996348e+03  2996.348172\n"
     ]
    }
   ],
   "source": [
    "df_scipy = pd.DataFrame(res_scipy)\n",
    "df_jade = pd.DataFrame(res_jade)\n",
    "df_de = pd.DataFrame(res_de)\n",
    "df_ga = pd.DataFrame(res_ga)\n",
    "\n",
    "print('Scipy DE')\n",
    "print(df_scipy.describe())\n",
    "print()\n",
    "print('DE')\n",
    "print(df_de.describe())\n",
    "print()\n",
    "print('GA')\n",
    "print(df_ga.describe())\n",
    "print()\n",
    "print('JADE')\n",
    "print(df_jade.describe())"
   ]
  }
 ],
 "metadata": {
  "kernelspec": {
   "display_name": "Python 3 (ipykernel)",
   "language": "python",
   "name": "python3"
  },
  "language_info": {
   "codemirror_mode": {
    "name": "ipython",
    "version": 3
   },
   "file_extension": ".py",
   "mimetype": "text/x-python",
   "name": "python",
   "nbconvert_exporter": "python",
   "pygments_lexer": "ipython3",
   "version": "3.9.7"
  }
 },
 "nbformat": 4,
 "nbformat_minor": 5
}
